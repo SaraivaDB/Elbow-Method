    from sklearn.datasets import make_blobs
    import matplotlib.pyplot as plt
    import pandas as pd
    import warnings
    warnings.filterwarnings('ignore')
 
    # Gerando dados de cluesters aleatórios
  x, _ = make_blobs(n_samples=200,
           n_features=2,
           centers=3,
           random_state=1)

 # Plotando os pontos em um gráfico 2D
plt.scatter(x[:,0], x[:,1])

<matplotlib.collections.PathCollection at 0x7f1853563910>

from sklearn.cluster import KMeans

modelo = KMeans(n_clusters=3)
labels = modelo.fit_predict(x)
centroides = modelo.cluster_centers_

labels[0]



# representand as cores dos cluester
cores = ['red', 'blue', 'green']

for i in range(x.shape[0]):
    plt.scatter(x[i,0], x[i,1], c=cores[labels[i]])

for c in centroides:
    plt.scatter(c[0], c[1], c='black', marker='x')

import numpy as np

# Gerando um numero aleatório de clusters entre 2 e 7
aleatorio = np.random.randint(2,7)

# Gerando dados aleatórios de clusters
x, _ = make_blobs(n_samples = 200,
           n_features = 2,
           centers = aleatorio)

inercia = {}

for i in range(1,10):
    modelo = KMeans(n_clusters=i)
    modelo.fit(x)
    inercia[i] = modelo.inertia_
    
# Transformando a variável inercia em um dataframe
inercia = pd.DataFrame.from_dict(inercia, orient='index')

plt.plot(inercia, marker='o')

[<matplotlib.lines.Line2D at 0x7f1849d6a460>]

# Plotando os pontos em um gráfico 2D
plt.scatter(x[:,0], x[:,1])
plt.title(f'Plot com {aleatorio} clusters.')

Text(0.5, 1.0, 'Plot com 6 clusters.')

print(aleatorio)

modelo = KMeans(n_clusters=aleatorio)
labels = modelo.fit_predict(x)
centroides = modelo.cluster_centers_

# representand as cores dos cluester
cores = ['red', 'blue', 'green', 'gray', 'orange', 'pink']

for i in range(x.shape[0]):
    plt.scatter(x[i,0], x[i,1], c=cores[labels[i]])

for c in centroides:
    plt.scatter(c[0], c[1], c='black', marker='x')
